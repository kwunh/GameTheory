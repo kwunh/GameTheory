{
 "cells": [
  {
   "cell_type": "markdown",
   "metadata": {},
   "source": [
    "# Iterated Prisoner's Dilemma"
   ]
  },
  {
   "cell_type": "markdown",
   "metadata": {},
   "source": [
    "This project uses the python package `axelrod`:"
   ]
  },
  {
   "cell_type": "code",
   "execution_count": null,
   "metadata": {},
   "outputs": [],
   "source": [
    "# @misc{axelrodproject,\n",
    "#   author       = {{ {The Axelrod project developers} }},\n",
    "#   title        = {Axelrod: <RELEASE TITLE>},\n",
    "#   month        = apr,\n",
    "#   year         = 2016,\n",
    "#   doi          = {<DOI INFORMATION>},\n",
    "#   url          = {http://dx.doi.org/10.5281/zenodo.<DOI NUMBER>}\n",
    "# }"
   ]
  },
  {
   "cell_type": "code",
   "execution_count": 4,
   "metadata": {},
   "outputs": [],
   "source": [
    "import axelrod as axl\n",
    "import matplotlib.pyplot as plt"
   ]
  },
  {
   "cell_type": "markdown",
   "metadata": {},
   "source": [
    "## Axelrod's First Tournament"
   ]
  },
  {
   "cell_type": "markdown",
   "metadata": {},
   "source": [
    "### Initialisation"
   ]
  },
  {
   "cell_type": "markdown",
   "metadata": {},
   "source": [
    "As Axelrod claimed, had `TitFor2Tats` been added to the pool of strategies in the first tournament, it would have scored the highest."
   ]
  },
  {
   "cell_type": "code",
   "execution_count": 55,
   "metadata": {},
   "outputs": [],
   "source": [
    "# Initialise all strategies from the first tournament\n",
    "first_tournament_strategies = [s for s in axl.axelrod_first_strategies]"
   ]
  },
  {
   "cell_type": "code",
   "execution_count": 56,
   "metadata": {},
   "outputs": [],
   "source": [
    "# Add Titfor2Tats\n",
    "first_tournament_strategies.append(axl.TitFor2Tats)"
   ]
  },
  {
   "cell_type": "code",
   "execution_count": 23,
   "metadata": {},
   "outputs": [
    {
     "data": {
      "text/plain": [
       "[Tit For Tat,\n",
       " First by Tideman and Chieruzzi: (D, D),\n",
       " First by Nydegger,\n",
       " First by Grofman,\n",
       " First by Shubik,\n",
       " First by Stein and Rapoport: 0.05: (D, D),\n",
       " Grudger,\n",
       " First by Davis: 10,\n",
       " First by Graaskamp: 0.05,\n",
       " First by Downing,\n",
       " First by Feld: 1.0, 0.5, 200,\n",
       " First by Joss: 0.9,\n",
       " First by Tullock,\n",
       " First by Anonymous,\n",
       " Random: 0.5,\n",
       " Tit For 2 Tats]"
      ]
     },
     "execution_count": 23,
     "metadata": {},
     "output_type": "execute_result"
    }
   ],
   "source": [
    "# Listing all strategies + TitFor2Tats\n",
    "first_tournament_players = [s() for s in first_tournament_strategies]\n",
    "first_tournament_players"
   ]
  },
  {
   "cell_type": "markdown",
   "metadata": {},
   "source": [
    "### First instance of the Tournament"
   ]
  },
  {
   "cell_type": "markdown",
   "metadata": {},
   "source": [
    "It is possible to call `axl.Tournament` function to simulate an Axelrod tournament. This function takes in arguments:\n",
    "- players/strategies\n",
    "- no of turns (fixed at 200)\n",
    "- repetitions (fixed at 5)\n",
    "- seed (to simulate different instances)"
   ]
  },
  {
   "cell_type": "code",
   "execution_count": 30,
   "metadata": {},
   "outputs": [],
   "source": [
    "def play_first_tournament(players, seed):\n",
    "    tournament = axl.Tournament(\n",
    "        players=players,\n",
    "        turns=200,\n",
    "        repetitions=5,\n",
    "        seed=seed)\n",
    "\n",
    "    results = tournament.play()\n",
    "    return(results)"
   ]
  },
  {
   "cell_type": "markdown",
   "metadata": {},
   "source": [
    "For the first tournament, the seed is set to 1 and the results are stored in `tour1` after all matches are played for the 5 repetitions"
   ]
  },
  {
   "cell_type": "code",
   "execution_count": 31,
   "metadata": {},
   "outputs": [
    {
     "name": "stderr",
     "output_type": "stream",
     "text": [
      "Playing matches: 100%|██████████| 136/136 [00:09<00:00, 13.66it/s]\n",
      "Analysing: 100%|██████████| 25/25 [00:00<00:00, 60.79it/s]\n"
     ]
    }
   ],
   "source": [
    "tour1 = play_first_tournament(first_tournament_players, 1)"
   ]
  },
  {
   "cell_type": "markdown",
   "metadata": {},
   "source": [
    "Firstly, the strategies and their respective rankings are published from best performing to worst:"
   ]
  },
  {
   "cell_type": "code",
   "execution_count": 93,
   "metadata": {},
   "outputs": [],
   "source": [
    "ranking = {name: pos + 1 for pos, name in enumerate(tour1.ranked_names)}"
   ]
  },
  {
   "cell_type": "markdown",
   "metadata": {},
   "source": [
    "As expected, `TitFor2Tat` comes out on top! But what happened to the original `TitForTat`? It is now ranked 4:"
   ]
  },
  {
   "cell_type": "code",
   "execution_count": 64,
   "metadata": {},
   "outputs": [
    {
     "name": "stdout",
     "output_type": "stream",
     "text": [
      "Ranking:\n",
      "1: Tit For 2 Tats\n",
      "2: First by Stein and Rapoport: 0.05: (D, D)\n",
      "3: Tit For Tat\n",
      "4: First by Grofman\n",
      "5: First by Shubik\n",
      "6: First by Tideman and Chieruzzi: (D, D)\n",
      "7: First by Nydegger\n",
      "8: Grudger\n",
      "9: First by Davis: 10\n",
      "10: First by Graaskamp: 0.05\n",
      "11: First by Downing\n",
      "12: First by Feld: 1.0, 0.5, 200\n",
      "13: First by Tullock\n",
      "14: First by Joss: 0.9\n",
      "15: Random: 0.5\n",
      "16: First by Anonymous\n"
     ]
    }
   ],
   "source": [
    "print(\"Ranking:\")\n",
    "for pos, name in enumerate(tour1.ranked_names):\n",
    "    print(f'{pos+1}: {name}')"
   ]
  },
  {
   "cell_type": "markdown",
   "metadata": {},
   "source": [
    "As noted by a number of researchers, `TitForTat` performs poorly in individual iteractions. To confirm this observation, it will be helpful to display a ranking according to the number of wins. As 5 iterations of matches were played, an average score will be calculated for each strategy."
   ]
  },
  {
   "cell_type": "code",
   "execution_count": 116,
   "metadata": {},
   "outputs": [],
   "source": [
    "wins = [w for w in tour1.wins]\n",
    "avg_wins = {str(name): sum(win)/len(win) for name, win in zip(first_tournament_players, wins)}\n",
    "ranked_avg_wins = {k: v for k, v in sorted(avg_wins.items(), key=lambda item: item[1], reverse=True)}"
   ]
  },
  {
   "cell_type": "markdown",
   "metadata": {},
   "source": [
    "Both versions of `TitForTat` scored 0 suggesting they actually won 0 of their individual encounters."
   ]
  },
  {
   "cell_type": "code",
   "execution_count": 146,
   "metadata": {},
   "outputs": [
    {
     "data": {
      "text/plain": [
       "{'First by Tideman and Chieruzzi: (D, D)': 12.0,\n",
       " 'First by Joss: 0.9': 11.4,\n",
       " 'First by Stein and Rapoport: 0.05: (D, D)': 11.0,\n",
       " 'First by Feld: 1.0, 0.5, 200': 10.4,\n",
       " 'First by Tullock': 9.0,\n",
       " 'First by Downing': 8.0,\n",
       " 'First by Graaskamp: 0.05': 5.0,\n",
       " 'Grudger': 5.0,\n",
       " 'Random: 0.5': 4.6,\n",
       " 'First by Anonymous': 4.0,\n",
       " 'First by Davis: 10': 4.0,\n",
       " 'First by Shubik': 3.0,\n",
       " 'First by Grofman': 1.0,\n",
       " 'Tit For 2 Tats': 0.0,\n",
       " 'Tit For Tat': 0.0,\n",
       " 'First by Nydegger': 0.0}"
      ]
     },
     "execution_count": 146,
     "metadata": {},
     "output_type": "execute_result"
    }
   ],
   "source": [
    "ranked_avg_wins"
   ]
  },
  {
   "cell_type": "markdown",
   "metadata": {},
   "source": [
    "Similar displaying the number of wins, it is also possible to display each strategies overall score (the score is what determines the ranking). Notice that the difference between `TitFor2Tats` and the strategy in second place is fairly minimal."
   ]
  },
  {
   "cell_type": "code",
   "execution_count": 122,
   "metadata": {},
   "outputs": [
    {
     "data": {
      "text/plain": [
       "{'Tit For 2 Tats': 7796.6,\n",
       " 'First by Stein and Rapoport: 0.05: (D, D)': 7728.6,\n",
       " 'First by Grofman': 7647.6,\n",
       " 'Tit For Tat': 7572.6,\n",
       " 'First by Tideman and Chieruzzi: (D, D)': 7528.8,\n",
       " 'First by Shubik': 7518.6,\n",
       " 'First by Nydegger': 7491.2,\n",
       " 'Grudger': 7322.6,\n",
       " 'First by Davis: 10': 7306.6,\n",
       " 'First by Downing': 6974.8,\n",
       " 'First by Graaskamp: 0.05': 6931.8,\n",
       " 'First by Feld: 1.0, 0.5, 200': 5763.2,\n",
       " 'First by Joss: 0.9': 5537.6,\n",
       " 'First by Tullock': 5510.0,\n",
       " 'First by Anonymous': 5227.6,\n",
       " 'Random: 0.5': 5142.0}"
      ]
     },
     "execution_count": 122,
     "metadata": {},
     "output_type": "execute_result"
    }
   ],
   "source": [
    "scores_1 = [s for s in tour1.scores]\n",
    "avg_scores_1 = {str(name): sum(scores_1)/len(scores_1) for name, scores_1 in zip(first_tournament_players, scores_1)}\n",
    "ranked_avg_scores_1 = {k: v for k, v in sorted(avg_scores_1.items(), key=lambda item: item[1], reverse=True)}\n",
    "ranked_avg_scores_1"
   ]
  },
  {
   "cell_type": "markdown",
   "metadata": {},
   "source": [
    "### Second instance of the Tournament"
   ]
  },
  {
   "cell_type": "markdown",
   "metadata": {},
   "source": [
    "One other experiment to consider is trying a different seed to identify if TitFor2Tat performs consistenty. Setting the seed to 2, it is observed that `TitFor2Tats` ranked second this time - with the best performing being `First by Stein and Rapoport: 0.05: (D, D)`. The original `TitFor2Tats` dropped down even lower at rank 5."
   ]
  },
  {
   "cell_type": "code",
   "execution_count": 147,
   "metadata": {},
   "outputs": [
    {
     "name": "stderr",
     "output_type": "stream",
     "text": [
      "Playing matches: 100%|████████████████████████████████████████████████████████████████████████████████████████████████████████████████████████████████████████████████████████████████████████████████████████████| 136/136 [00:02<00:00, 54.90it/s]\n",
      "Analysing: 100%|███████████████████████████████████████████████████████████████████████████████████████████████████████████████████████████████████████████████████████████████████████████████████████████████████| 25/25 [00:00<00:00, 289.16it/s]\n"
     ]
    }
   ],
   "source": [
    "tour2 = play_first_tournament(first_tournament_players, 2)"
   ]
  },
  {
   "cell_type": "code",
   "execution_count": 148,
   "metadata": {},
   "outputs": [
    {
     "name": "stdout",
     "output_type": "stream",
     "text": [
      "Ranking:\n",
      "1: First by Stein and Rapoport: 0.05: (D, D)\n",
      "2: Tit For 2 Tats\n",
      "3: First by Grofman\n",
      "4: First by Shubik\n",
      "5: Tit For Tat\n",
      "6: First by Tideman and Chieruzzi: (D, D)\n",
      "7: First by Nydegger\n",
      "8: Grudger\n",
      "9: First by Davis: 10\n",
      "10: First by Graaskamp: 0.05\n",
      "11: First by Downing\n",
      "12: First by Feld: 1.0, 0.5, 200\n",
      "13: First by Joss: 0.9\n",
      "14: First by Tullock\n",
      "15: Random: 0.5\n",
      "16: First by Anonymous\n"
     ]
    }
   ],
   "source": [
    "print(\"Ranking:\")\n",
    "for pos, name in enumerate(tour2.ranked_names):\n",
    "    print(f'{pos+1}: {name}')"
   ]
  },
  {
   "cell_type": "markdown",
   "metadata": {},
   "source": [
    "The differences in the ranking between running with Seed 1 vs Seed 2 can be plotted. Any strategy that is not on the best fit line has a differing ranking. Only a total of 4 strategies had consistent results."
   ]
  },
  {
   "cell_type": "code",
   "execution_count": 137,
   "metadata": {},
   "outputs": [
    {
     "data": {
      "image/png": "[encoded data removed]",
      "text/plain": [
       "<Figure size 1000x500 with 1 Axes>"
      ]
     },
     "metadata": {},
     "output_type": "display_data"
    }
   ],
   "source": [
    "plt.figure(figsize=(10, 5)) \n",
    "plt.plot((0, 15), (0, 15), color=\"red\", linestyle=\"--\")  \n",
    "for original_rank, strategy in enumerate(tour1.ranked_names):\n",
    "    rank = tour2.ranked_names.index(str(strategy))\n",
    "    if rank == original_rank:\n",
    "        symbol = \"+\"\n",
    "        plt.plot((rank, rank), (rank, 0), color=\"grey\")\n",
    "    else:\n",
    "        symbol = \"o\"\n",
    "    plt.scatter([rank], [original_rank], marker=symbol, color=\"black\", s=50)  \n",
    "plt.xticks(\n",
    "    range(len(tour1.ranked_names)),\n",
    "    tour2.ranked_names,\n",
    "    rotation=90\n",
    ")  \n",
    "plt.ylabel(\"Seed 1 rank\")  \n",
    "plt.xlabel(\"Seed 2 rank\");  \n",
    "plt.show()"
   ]
  },
  {
   "cell_type": "markdown",
   "metadata": {},
   "source": [
    "## Axelrod's Second Tournament"
   ]
  },
  {
   "cell_type": "markdown",
   "metadata": {},
   "source": [
    "### Initialisation"
   ]
  },
  {
   "cell_type": "markdown",
   "metadata": {},
   "source": [
    "The second tournament had a lot more entries & many of them do not have prebuilt Python implementations yet. There are only approx. half the strategies (30/63) from the second tournament available without having to build custom strategies. In light of this limitation, it would interesting to run the simulation with only half the pool of strategies to see how `TitForTat` performs."
   ]
  },
  {
   "cell_type": "code",
   "execution_count": 123,
   "metadata": {},
   "outputs": [],
   "source": [
    "# initialising all the available strategies from Axelrod's second tournament\n",
    "second_tournament_participants= [\n",
    "    axl.axelrod_second.SecondByChampion(), \n",
    "    axl.axelrod_second.SecondByEatherley(),\n",
    "    axl.axelrod_second.SecondByTester(),\n",
    "    axl.axelrod_second.SecondByGladstein(),\n",
    "    axl.axelrod_second.SecondByTranquilizer(),\n",
    "    axl.axelrod_second.SecondByGrofman(),\n",
    "    axl.axelrod_second.SecondByKluepfel(),\n",
    "    axl.axelrod_second.SecondByBorufsen(),\n",
    "    axl.axelrod_second.SecondByCave(),\n",
    "    axl.axelrod_second.SecondByWmAdams(),\n",
    "    axl.axelrod_second.SecondByWeiner(),\n",
    "    axl.axelrod_second.SecondByHarrington(),\n",
    "    axl.axelrod_second.SecondByTidemanAndChieruzzi(),\n",
    "    axl.axelrod_second.SecondByGetzler(),\n",
    "    axl.axelrod_second.SecondByLeyvraz(),\n",
    "    axl.axelrod_second.SecondByWhite(),\n",
    "    axl.axelrod_second.SecondByBlack(),\n",
    "    axl.axelrod_second.SecondByRichardHufford(),\n",
    "    axl.axelrod_second.SecondByYamachi(),\n",
    "    axl.axelrod_second.SecondByColbert(),\n",
    "    axl.axelrod_second.SecondByMikkelson(),\n",
    "    axl.axelrod_second.SecondByRowsam(),\n",
    "    axl.axelrod_second.SecondByAppold(),\n",
    "    axl.TitForTat(),\n",
    "    axl.TitFor2Tats(),\n",
    "    axl.Random(),\n",
    "    axl.WinStayLoseShift(),\n",
    "    axl.RevisedDowning(),\n",
    "    axl.Grudger(),\n",
    "    axl.GoByMajority()\n",
    "]"
   ]
  },
  {
   "cell_type": "code",
   "execution_count": 124,
   "metadata": {},
   "outputs": [
    {
     "data": {
      "text/plain": [
       "30"
      ]
     },
     "execution_count": 124,
     "metadata": {},
     "output_type": "execute_result"
    }
   ],
   "source": [
    "# Checking how many strategies exist in the pool\n",
    "len(second_tournament_participants)"
   ]
  },
  {
   "cell_type": "markdown",
   "metadata": {},
   "source": [
    "### First instance of the Tournament"
   ]
  },
  {
   "cell_type": "markdown",
   "metadata": {},
   "source": [
    "This time, when setting up the `axl.Tournament` function the no of turns is no longer fixed. Instead a new parameter `prob_end=0.00346` is used to simulate the conditions of the Second Tournament. Every other parameter remains consistent with the First Tournament:\n",
    "- players/strategies\n",
    "- probability of ending on given round -> 0.00346\n",
    "- repetitions (fixed at 5)\n",
    "- seed (to simulate different instances)"
   ]
  },
  {
   "cell_type": "code",
   "execution_count": 125,
   "metadata": {},
   "outputs": [],
   "source": [
    "def play_second_tournament(players, seed):\n",
    "    tournament = axl.Tournament(\n",
    "        players=players,\n",
    "        prob_end=0.00346,\n",
    "        repetitions=5,\n",
    "        seed=seed)\n",
    "\n",
    "    results = tournament.play()\n",
    "    return(results)"
   ]
  },
  {
   "cell_type": "code",
   "execution_count": 126,
   "metadata": {},
   "outputs": [
    {
     "name": "stderr",
     "output_type": "stream",
     "text": [
      "Playing matches: 100%|████████████████████████████████████████████████████████████████████████████████████████████████████████████████████████████████████████████████████████████████████████████████████████████| 465/465 [00:23<00:00, 19.73it/s]\n",
      "Analysing: 100%|███████████████████████████████████████████████████████████████████████████████████████████████████████████████████████████████████████████████████████████████████████████████████████████████████| 25/25 [00:00<00:00, 126.82it/s]\n"
     ]
    }
   ],
   "source": [
    "second = play_second_tournament(second_tournament_participants, 1)"
   ]
  },
  {
   "cell_type": "code",
   "execution_count": 129,
   "metadata": {},
   "outputs": [
    {
     "name": "stdout",
     "output_type": "stream",
     "text": [
      "Tit For Tat Ranking: 7\n",
      "Tit For 2 Tats Ranking: 28\n"
     ]
    }
   ],
   "source": [
    "print(f\"Tit For Tat Ranking:\", second.ranked_names.index(\"Tit For Tat\")+1)\n",
    "print(f\"Tit For 2 Tats Ranking:\", second.ranked_names.index(\"Tit For 2 Tats\")+1)"
   ]
  },
  {
   "cell_type": "markdown",
   "metadata": {},
   "source": [
    "To check the full ranking -  Borufsen, Tideman and Chieruzzi, Tranquilizer, Weiner, Cave, Kluepfel all performed better than the original `TitForTat`:"
   ]
  },
  {
   "cell_type": "code",
   "execution_count": 127,
   "metadata": {},
   "outputs": [
    {
     "name": "stdout",
     "output_type": "stream",
     "text": [
      "Ranking:\n",
      "1: Second by Borufsen\n",
      "2: Second by Tideman and Chieruzzi\n",
      "3: Second by Tranquilizer\n",
      "4: Second by Weiner\n",
      "5: Second by Cave\n",
      "6: Second by Kluepfel\n",
      "7: Tit For Tat\n",
      "8: Second by WmAdams\n",
      "9: Second by Getzler\n",
      "10: Second by RichardHufford\n",
      "11: Second by Harrington\n",
      "12: Second by White\n",
      "13: Soft Go By Majority\n",
      "14: Second by Mikkelson\n",
      "15: Second by Leyvraz\n",
      "16: Second by Rowsam\n",
      "17: Second by Black\n",
      "18: Second by Eatherley\n",
      "19: Second by Grofman\n",
      "20: Second by Yamachi\n",
      "21: Second by Champion\n",
      "22: Second by Gladstein\n",
      "23: Second by Tester\n",
      "24: Second by Appold\n",
      "25: Second by Colbert\n",
      "26: Revised Downing\n",
      "27: Win-Stay Lose-Shift\n",
      "28: Tit For 2 Tats\n",
      "29: Grudger\n",
      "30: Random: 0.5\n"
     ]
    }
   ],
   "source": [
    "print(\"Ranking:\")\n",
    "for pos, name in enumerate(second.ranked_names):\n",
    "    print(f'{pos+1}: {name}')"
   ]
  },
  {
   "cell_type": "markdown",
   "metadata": {},
   "source": [
    "### Second instance of the Tournament"
   ]
  },
  {
   "cell_type": "code",
   "execution_count": 160,
   "metadata": {},
   "outputs": [
    {
     "name": "stderr",
     "output_type": "stream",
     "text": [
      "Playing matches: 100%|████████████████████████████████████████████████████████████████████████████████████████████████████████████████████████████████████████████████████████████████████████████████████████████| 465/465 [00:19<00:00, 23.42it/s]\n",
      "Analysing: 100%|███████████████████████████████████████████████████████████████████████████████████████████████████████████████████████████████████████████████████████████████████████████████████████████████████| 25/25 [00:00<00:00, 124.19it/s]\n"
     ]
    }
   ],
   "source": [
    "second2 = play_second_tournament(second_tournament_participants, 2)"
   ]
  },
  {
   "cell_type": "code",
   "execution_count": 161,
   "metadata": {},
   "outputs": [
    {
     "name": "stdout",
     "output_type": "stream",
     "text": [
      "Tit For Tat Ranking: 6\n",
      "Tit For 2 Tats Ranking: 27\n"
     ]
    }
   ],
   "source": [
    "print(f\"Tit For Tat Ranking:\", second2.ranked_names.index(\"Tit For Tat\")+1)\n",
    "print(f\"Tit For 2 Tats Ranking:\", second2.ranked_names.index(\"Tit For 2 Tats\")+1)"
   ]
  },
  {
   "cell_type": "code",
   "execution_count": 195,
   "metadata": {},
   "outputs": [
    {
     "name": "stdout",
     "output_type": "stream",
     "text": [
      "Ranking:\n",
      "1: Second by Tideman and Chieruzzi\n",
      "2: Second by Weiner\n",
      "3: Second by Borufsen\n",
      "4: Second by Kluepfel\n",
      "5: Second by Cave\n",
      "6: Tit For Tat\n",
      "7: Second by RichardHufford\n",
      "8: Second by Harrington\n",
      "9: Second by Getzler\n",
      "10: Second by WmAdams\n",
      "11: Second by Tranquilizer\n",
      "12: Second by Grofman\n",
      "13: Second by Eatherley\n",
      "14: Second by Leyvraz\n",
      "15: Second by Rowsam\n",
      "16: Second by Tester\n",
      "17: Second by Black\n",
      "18: Second by Yamachi\n",
      "19: Second by White\n",
      "20: Second by Mikkelson\n",
      "21: Soft Go By Majority\n",
      "22: Second by Champion\n",
      "23: Second by Gladstein\n",
      "24: Second by Colbert\n",
      "25: Revised Downing\n",
      "26: Second by Appold\n",
      "27: Tit For 2 Tats\n",
      "28: Win-Stay Lose-Shift\n",
      "29: Grudger\n",
      "30: Random: 0.5\n"
     ]
    }
   ],
   "source": [
    "print(\"Ranking:\")\n",
    "for pos, name in enumerate(second2.ranked_names):\n",
    "    print(f'{pos+1}: {name}')"
   ]
  },
  {
   "cell_type": "markdown",
   "metadata": {},
   "source": [
    "## Knockout Tournament"
   ]
  },
  {
   "cell_type": "markdown",
   "metadata": {},
   "source": [
    "### Preliminary Round Robin"
   ]
  },
  {
   "cell_type": "markdown",
   "metadata": {},
   "source": [
    "Instead of repeating the first tournament, the results can be taken to form the pool of strategies that will play in the Knockout stages. The ranked strategies are splint in half: the top half moving on to the knockout stage and the bottom half are eliminated."
   ]
  },
  {
   "cell_type": "code",
   "execution_count": 248,
   "metadata": {},
   "outputs": [],
   "source": [
    "rank = {name: pos + 1 for pos, name in enumerate(tour1.ranking)}"
   ]
  },
  {
   "cell_type": "code",
   "execution_count": 249,
   "metadata": {},
   "outputs": [],
   "source": [
    "top = []\n",
    "if len(rank.keys()) % 2 == 0:\n",
    "    top = sorted(rank, key=rank.get, reverse=False)[:len(rank)//2]\n",
    "else:\n",
    "    top = sorted(rank, key=rank.get, reverse=False)[:len(rank)//2]\n",
    "\n",
    "top_strats = [tour1.players[i] for i in top]"
   ]
  },
  {
   "cell_type": "code",
   "execution_count": 250,
   "metadata": {},
   "outputs": [],
   "source": [
    "# Conversion of name to actual strategy instance\n",
    "strategy_name_to_class = {\n",
    "    'Tit For Tat': axl.TitForTat(),\n",
    "    'First by Tideman and Chieruzzi: (D, D)': axl.FirstByTidemanAndChieruzzi(),\n",
    "    'First by Nydegger': axl.FirstByNydegger(),\n",
    "    'First by Grofman': axl.FirstByGrofman(),\n",
    "    'First by Shubik': axl.FirstByShubik(),\n",
    "    'First by Stein and Rapoport: 0.05: (D, D)': axl.FirstBySteinAndRapoport(),\n",
    "    'Grudger': axl.Grudger(),\n",
    "    'First by Davis: 10': axl.FirstByDavis(),\n",
    "    'First by Graaskamp: 0.05': axl.FirstByGraaskamp(),\n",
    "    'First by Downing': axl.FirstByDowning(),\n",
    "    'First by Feld: 1.0, 0.5, 200': axl.FirstByFeld(),\n",
    "    'First by Joss: 0.9': axl.FirstByJoss(),\n",
    "    'First by Tullock': axl.FirstByTullock(),\n",
    "    'First by Anonymous': axl.FirstByAnonymous(),\n",
    "    'Random: 0.5': axl.Random(),\n",
    "    'Tit For 2 Tats': axl.TitFor2Tats()\n",
    "}"
   ]
  },
  {
   "cell_type": "code",
   "execution_count": 138,
   "metadata": {},
   "outputs": [],
   "source": [
    "# Top participants store the strategies to be added to the pool of Knockout Tournament\n",
    "top_participants = []\n",
    "for name in top_strats:\n",
    "    top_participants.append(strategy_name_to_class[name])"
   ]
  },
  {
   "cell_type": "markdown",
   "metadata": {},
   "source": [
    "### Knockout Tournament Implementation"
   ]
  },
  {
   "cell_type": "markdown",
   "metadata": {},
   "source": [
    "This implementation of a knockout tournament computes the payoff of 2 competing strategies with the possibility of 3 results:\n",
    "- Win: the strategy that wins an interaction moves on the the next round\n",
    "- Lose: the strategy that loses an interaction is eliminated\n",
    "- Draw: the pair of stratgies which draw will both be eliminated and added to the Draw list.\n",
    "\n",
    "Rounds of the knockout tournament will continue to play until only 1 strategy remains in which it will be deemed the winner. The tournament may also end if all competing strategies end up in a Draw state. The code can be easily modified to change the objective criterion from overall score to no. of wins by accessing the `match.winner()` variable."
   ]
  },
  {
   "cell_type": "code",
   "execution_count": 318,
   "metadata": {},
   "outputs": [],
   "source": [
    "import axelrod as axl\n",
    "import random\n",
    "\n",
    "def run_match(player1, player2):\n",
    "    \"\"\"\n",
    "    Run a match between two players and return their scores.\n",
    "    \"\"\"\n",
    "    players = [player1, player2]\n",
    "    match = axl.Match(players, prob_end=0.00346,)\n",
    "    match.play()\n",
    "    # winner = match.winner()\n",
    "    scores = match.final_score()\n",
    "    return scores\n",
    "\n",
    "def run_tournament(players):\n",
    "    \"\"\"\n",
    "    Run a single-elimination tournament with the given players.\n",
    "    \"\"\"\n",
    "    tournament_players = players[:]\n",
    "    round_number = 1\n",
    "    draws = []\n",
    "    while len(tournament_players) > 1:\n",
    "        print(f\"Round {round_number}:\")\n",
    "        winners = []\n",
    "        for i in range(0, len(tournament_players), 2):\n",
    "            player1 = tournament_players[i]\n",
    "            player2 = tournament_players[i + 1]\n",
    "            scores = run_match(player1, player2)\n",
    "            final_score1 = scores[0]\n",
    "            final_score2 = scores[1]\n",
    "            print(f\"{player1.name} vs. {player2.name}\")\n",
    "            if final_score1 > final_score2:\n",
    "                winners.append(player1)\n",
    "            elif final_score1 < final_score2:\n",
    "                winners.append(player2)\n",
    "            else:\n",
    "                draws.append(player1)\n",
    "                draws.append(player2)\n",
    "        print(f\"Moving on to next round: {[w.name for w in winners]}\")\n",
    "        tournament_players = winners\n",
    "        round_number += 1\n",
    "\n",
    "    print(f\"Draws: {draws}\")\n",
    "\n",
    "    if len(tournament_players) > 0:\n",
    "        print(f\"Winner: {tournament_players[0].name}\")"
   ]
  },
  {
   "cell_type": "markdown",
   "metadata": {},
   "source": [
    "### Tournament with Strategies from Round Robin"
   ]
  },
  {
   "cell_type": "code",
   "execution_count": 252,
   "metadata": {},
   "outputs": [],
   "source": [
    "# Randomises the strategy pairings\n",
    "random.shuffle(top_participants)"
   ]
  },
  {
   "cell_type": "code",
   "execution_count": 263,
   "metadata": {},
   "outputs": [
    {
     "name": "stdout",
     "output_type": "stream",
     "text": [
      "Round 1:\n",
      "First by Nydegger vs. Tit For Tat: 57 vs. 57\n",
      "First by Tideman and Chieruzzi vs. First by Shubik: 561 vs. 561\n",
      "Tit For 2 Tats vs. First by Grofman: 753 vs. 753\n",
      "Grudger vs. First by Stein and Rapoport: 1425 vs. 1425\n",
      "Moving on to next round: []\n",
      "Draws: [First by Nydegger, Tit For Tat, First by Tideman and Chieruzzi: (D, D), First by Shubik, Tit For 2 Tats, First by Grofman, Grudger, First by Stein and Rapoport: 0.05: (D, D)]\n"
     ]
    }
   ],
   "source": [
    "run_tournament(top_participants)"
   ]
  },
  {
   "cell_type": "markdown",
   "metadata": {},
   "source": [
    "### Tournament with ALL Strategies from first Axelrod Tournament"
   ]
  },
  {
   "cell_type": "code",
   "execution_count": 314,
   "metadata": {},
   "outputs": [],
   "source": [
    "random.shuffle(first_tournament_players)"
   ]
  },
  {
   "cell_type": "code",
   "execution_count": 351,
   "metadata": {},
   "outputs": [
    {
     "name": "stdout",
     "output_type": "stream",
     "text": [
      "Round 1:\n",
      "First by Grofman vs. First by Joss\n",
      "First by Stein and Rapoport vs. First by Shubik\n",
      "Tit For 2 Tats vs. First by Tideman and Chieruzzi\n",
      "First by Feld vs. Tit For Tat\n",
      "First by Downing vs. Random\n",
      "First by Anonymous vs. First by Graaskamp\n",
      "First by Nydegger vs. First by Davis\n",
      "First by Tullock vs. Grudger\n",
      "Moving on to next round: ['First by Joss', 'First by Feld', 'First by Downing', 'Grudger']\n",
      "Round 2:\n",
      "First by Joss vs. First by Feld\n",
      "First by Downing vs. Grudger\n",
      "Moving on to next round: ['First by Joss', 'Grudger']\n",
      "Round 3:\n",
      "First by Joss vs. Grudger\n",
      "Moving on to next round: ['First by Joss']\n",
      "Draws: [First by Stein and Rapoport: 0.05: (D, D), First by Shubik, Tit For 2 Tats, First by Tideman and Chieruzzi: (D, D), First by Anonymous, First by Graaskamp: 0.05, First by Nydegger, First by Davis: 10]\n",
      "Winner: First by Joss\n"
     ]
    }
   ],
   "source": [
    "run_tournament(first_tournament_players)"
   ]
  }
 ],
 "metadata": {
  "kernelspec": {
   "display_name": "Python 3",
   "language": "python",
   "name": "python3"
  },
  "language_info": {
   "codemirror_mode": {
    "name": "ipython",
    "version": 3
   },
   "file_extension": ".py",
   "mimetype": "text/x-python",
   "name": "python",
   "nbconvert_exporter": "python",
   "pygments_lexer": "ipython3",
   "version": "3.11.5"
  }
 },
 "nbformat": 4,
 "nbformat_minor": 2
}
